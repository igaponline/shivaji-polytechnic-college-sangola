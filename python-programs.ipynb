{
 "cells": [
  {
   "cell_type": "code",
   "execution_count": 2,
   "id": "4a9441ab-3910-455b-939a-0513706af5b4",
   "metadata": {
    "scrolled": true
   },
   "outputs": [
    {
     "name": "stdout",
     "output_type": "stream",
     "text": [
      "Hello World\n"
     ]
    }
   ],
   "source": [
    "print('Hello World')"
   ]
  },
  {
   "cell_type": "raw",
   "id": "d60e46cc-9b73-43d7-a04a-4ace35c95de6",
   "metadata": {},
   "source": [
    "# Program to perform Math operations"
   ]
  },
  {
   "cell_type": "code",
   "execution_count": 7,
   "id": "ed7713f2-9731-43cb-b50a-023368733cba",
   "metadata": {},
   "outputs": [
    {
     "name": "stdin",
     "output_type": "stream",
     "text": [
      "Enter first no: 6\n",
      "Enter second no: 4\n"
     ]
    },
    {
     "name": "stdout",
     "output_type": "stream",
     "text": [
      "Addition is 10\n",
      "Subtraction is 2\n",
      "Multiplication is 24\n",
      "Division is 1.5\n",
      "Remainder of division is 2\n"
     ]
    }
   ],
   "source": [
    "no1 = int(input(\"Enter first no:\"))\n",
    "no2 = int(input(\"Enter second no:\"))\n",
    "add = no1 + no2\n",
    "sub = no1 - no2\n",
    "mul = no1 * no2\n",
    "div = no1 / no2\n",
    "rem = no1 % no2\n",
    "print(\"Addition is\", add)\n",
    "print(\"Subtraction is\", sub)\n",
    "print(\"Multiplication is\", mul)\n",
    "print(\"Division is\", div)\n",
    "print(\"Remainder of division is\", rem)"
   ]
  },
  {
   "cell_type": "markdown",
   "id": "94f836ca-f4f0-487d-8b51-13dc112a9b71",
   "metadata": {},
   "source": [
    "#Program to find largest among 3"
   ]
  },
  {
   "cell_type": "code",
   "execution_count": 8,
   "id": "0e3d34b5-6906-4e00-b580-46e3b7a973ff",
   "metadata": {},
   "outputs": [
    {
     "name": "stdin",
     "output_type": "stream",
     "text": [
      "Enter first no: 50\n",
      "Enter second no: 40\n",
      "Enter third no: 60\n"
     ]
    },
    {
     "name": "stdout",
     "output_type": "stream",
     "text": [
      "No3 is largest\n"
     ]
    }
   ],
   "source": [
    "no1 = int(input(\"Enter first no:\"))\n",
    "no2 = int(input(\"Enter second no:\"))\n",
    "no3 = int(input(\"Enter third no:\"))\n",
    "if no1 > no2 and no1 > no3:\n",
    "    print(\"No1 is largest\")\n",
    "elif no2 > no1 and no2 > no3:\n",
    "    print(\"No2 is largest\")\n",
    "else:\n",
    "    print(\"No3 is largest\")"
   ]
  },
  {
   "cell_type": "code",
   "execution_count": 13,
   "id": "e280ee7d-38af-4ce3-9923-2759efb0fce6",
   "metadata": {},
   "outputs": [
    {
     "name": "stdout",
     "output_type": "stream",
     "text": [
      "*\n",
      "**\n",
      "***\n",
      "****\n",
      "*****\n"
     ]
    }
   ],
   "source": [
    "#Program to print pyramid\n",
    "for i in range(1, 6, 1):\n",
    "    for j in range(1, i + 1, 1):        \n",
    "        print(\"*\", end = \"\")\n",
    "    print()"
   ]
  },
  {
   "cell_type": "code",
   "execution_count": null,
   "id": "fe3075e0-c16b-4328-8f10-67c0ca4477b5",
   "metadata": {},
   "outputs": [],
   "source": []
  }
 ],
 "metadata": {
  "kernelspec": {
   "display_name": "Python 3 (ipykernel)",
   "language": "python",
   "name": "python3"
  },
  "language_info": {
   "codemirror_mode": {
    "name": "ipython",
    "version": 3
   },
   "file_extension": ".py",
   "mimetype": "text/x-python",
   "name": "python",
   "nbconvert_exporter": "python",
   "pygments_lexer": "ipython3",
   "version": "3.10.0"
  }
 },
 "nbformat": 4,
 "nbformat_minor": 5
}
